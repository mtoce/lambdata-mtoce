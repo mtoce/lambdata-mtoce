{
 "cells": [
  {
   "cell_type": "markdown",
   "metadata": {},
   "source": [
    "# Code Reviewing Peer Code: pip installing from pypi.org"
   ]
  },
  {
   "cell_type": "code",
   "execution_count": 1,
   "metadata": {},
   "outputs": [],
   "source": [
    "import pandas as pd\n",
    "import numpy as np"
   ]
  },
  {
   "cell_type": "code",
   "execution_count": 22,
   "metadata": {},
   "outputs": [],
   "source": [
    "# read in a df\n",
    "df = pd.read_csv('https://raw.githubusercontent.com/mtoce/Build2-Project/master/astros_bangs_20200127.csv')"
   ]
  },
  {
   "cell_type": "markdown",
   "metadata": {},
   "source": [
    "## Thomas McDaniel's Code Peer Test"
   ]
  },
  {
   "cell_type": "code",
   "execution_count": 43,
   "metadata": {},
   "outputs": [
    {
     "output_type": "stream",
     "name": "stdout",
     "text": "Looking in indexes: https://test.pypi.org/simple/\nCollecting lambdata-thomasmcdaniel91==4.0.2\n  Downloading https://test-files.pythonhosted.org/packages/97/3f/58d1e8501666f04419c30d8c44945c4afc22f3dcc388d52834ba08df4fb4/lambdata_thomasmcdaniel91-4.0.2-py3-none-any.whl (3.6 kB)\nInstalling collected packages: lambdata-thomasmcdaniel91\n  Attempting uninstall: lambdata-thomasmcdaniel91\n    Found existing installation: lambdata-thomasmcdaniel91 3.0.2\n    Uninstalling lambdata-thomasmcdaniel91-3.0.2:\n      Successfully uninstalled lambdata-thomasmcdaniel91-3.0.2\nSuccessfully installed lambdata-thomasmcdaniel91-4.0.2\nNote: you may need to restart the kernel to use updated packages.\n"
    }
   ],
   "source": [
    "pip install -i https://test.pypi.org/simple/ lambdata-thomasmcdaniel91==4.0.2"
   ]
  },
  {
   "cell_type": "code",
   "execution_count": 47,
   "metadata": {},
   "outputs": [],
   "source": [
    "# thomas' import functions\n",
    "from my_lambdata.helper import Additions"
   ]
  },
  {
   "cell_type": "code",
   "execution_count": 54,
   "metadata": {},
   "outputs": [
    {
     "output_type": "stream",
     "name": "stdout",
     "text": "Help on class Additions in module my_lambdata.helper:\n\nclass Additions(builtins.object)\n |  Additions(df, list_name, new_col_name)\n |  \n |  Methods defined here:\n |  \n |  __init__(self, df, list_name, new_col_name)\n |      Initialize self.  See help(type(self)) for accurate signature.\n |  \n |  exten_df(self, df, list_name, new_col_name)\n |  \n |  ----------------------------------------------------------------------\n |  Data descriptors defined here:\n |  \n |  __dict__\n |      dictionary for instance variables (if defined)\n |  \n |  __weakref__\n |      list of weak references to the object (if defined)\n\n"
    }
   ],
   "source": [
    "# checking out the docstring for helper.Additions\n",
    "help(helper.Additions)"
   ]
  },
  {
   "cell_type": "code",
   "execution_count": 50,
   "metadata": {},
   "outputs": [
    {
     "output_type": "execute_result",
     "data": {
      "text/plain": "0        3/4/2017\n1        3/4/2017\n2        3/4/2017\n3        3/4/2017\n4        3/4/2017\n          ...    \n8269    24/9/2017\n8270    24/9/2017\n8271    24/9/2017\n8272    24/9/2017\n8273    24/9/2017\nName: last, Length: 8274, dtype: object"
     },
     "metadata": {},
     "execution_count": 50
    }
   ],
   "source": [
    "# code to add a column to my df using thomas' function\n",
    "new_df = Additions(df, df['game_date'], 'last')\n",
    "new_df = new_df.exten_df(df, df['game_date'], 'last')\n",
    "new_df['last']"
   ]
  },
  {
   "cell_type": "markdown",
   "metadata": {},
   "source": [
    "## Connor Voltaire's Code Peer Test"
   ]
  },
  {
   "cell_type": "code",
   "execution_count": 15,
   "metadata": {},
   "outputs": [
    {
     "output_type": "stream",
     "name": "stdout",
     "text": "Looking in indexes: https://test.pypi.org/simple/\nCollecting Lambdata-Voltaire\n  Downloading https://test-files.pythonhosted.org/packages/8f/52/3546f7b07f2299656adcb738feb247d3397cc169fa9f6379dd7b8e3c1171/Lambdata_Voltaire-1.0-py3-none-any.whl (3.3 kB)\nInstalling collected packages: Lambdata-Voltaire\nSuccessfully installed Lambdata-Voltaire-1.0\nNote: you may need to restart the kernel to use updated packages.\n"
    }
   ],
   "source": [
    "pip install -i https://test.pypi.org/simple/ Lambdata-Voltaire"
   ]
  },
  {
   "cell_type": "code",
   "execution_count": 35,
   "metadata": {},
   "outputs": [],
   "source": [
    "# importing from connor's folders and functions\n",
    "from voltaire.date_time import Date_time"
   ]
  },
  {
   "cell_type": "code",
   "execution_count": 53,
   "metadata": {},
   "outputs": [
    {
     "output_type": "stream",
     "name": "stdout",
     "text": "Help on class Date_time in module voltaire.date_time:\n\nclass Date_time(builtins.object)\n |  Date_time(month, day, year)\n |  \n |  Methods defined here:\n |  \n |  __init__(self, month, day, year)\n |      Initialize self.  See help(type(self)) for accurate signature.\n |  \n |  date(self, df, date_cols)\n |      Function will take a data frame (df)\n |      and the name of a date column in the data frame.\n |      This will return the data frame (df)\n |      with month, day, and year columns (date_cols).\n |  \n |  ----------------------------------------------------------------------\n |  Data descriptors defined here:\n |  \n |  __dict__\n |      dictionary for instance variables (if defined)\n |  \n |  __weakref__\n |      list of weak references to the object (if defined)\n\n"
    }
   ],
   "source": [
    "# checking out the docstring\n",
    "help(date_time.Date_time)"
   ]
  },
  {
   "cell_type": "code",
   "execution_count": 37,
   "metadata": {},
   "outputs": [],
   "source": [
    "# instantiating the class and creating new date_cols :D\n",
    "date_time_test = Date_time(1, 1, 1)\n",
    "new_date = date_time_test.date(df=df, date_cols='game_date')"
   ]
  },
  {
   "cell_type": "code",
   "execution_count": 51,
   "metadata": {},
   "outputs": [
    {
     "output_type": "execute_result",
     "data": {
      "text/plain": "0        4\n1        4\n2        4\n3        4\n4        4\n        ..\n8269    24\n8270    24\n8271    24\n8272    24\n8273    24\nName: game_date_day, Length: 8274, dtype: int64"
     },
     "metadata": {},
     "execution_count": 51
    }
   ],
   "source": [
    "new_date['game_date_day']"
   ]
  },
  {
   "cell_type": "code",
   "execution_count": 52,
   "metadata": {},
   "outputs": [
    {
     "output_type": "execute_result",
     "data": {
      "text/plain": "0       3\n1       3\n2       3\n3       3\n4       3\n       ..\n8269    9\n8270    9\n8271    9\n8272    9\n8273    9\nName: game_date_month, Length: 8274, dtype: int64"
     },
     "metadata": {},
     "execution_count": 52
    }
   ],
   "source": [
    "new_date['game_date_month']"
   ]
  }
 ],
 "metadata": {
  "language_info": {
   "codemirror_mode": {
    "name": "ipython",
    "version": 3
   },
   "file_extension": ".py",
   "mimetype": "text/x-python",
   "name": "python",
   "nbconvert_exporter": "python",
   "pygments_lexer": "ipython3",
   "version": "3.7.6-final"
  },
  "orig_nbformat": 2,
  "kernelspec": {
   "name": "python3",
   "display_name": "Python 3"
  }
 },
 "nbformat": 4,
 "nbformat_minor": 2
}