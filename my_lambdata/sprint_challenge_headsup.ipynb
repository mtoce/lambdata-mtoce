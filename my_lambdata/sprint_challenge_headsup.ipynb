{
 "cells": [
  {
   "cell_type": "markdown",
   "metadata": {},
   "source": [
    "1. Write your own class:\n",
    "    specific class,\n",
    "    specific name,\n",
    "    specific attributes.\n",
    "    *Inheritance*\n",
    "    -invoke attributes on instance of your class\n",
    "2. Add methods into your class and make sure that they work\n",
    "3. Create child class and implement inheritance that takes in output from a class that you just created\n",
    "4. Add some more methods that do a specific thing (*test?*)\n",
    "5. Use unittest to test your class."
   ]
  }
 ],
 "metadata": {
  "language_info": {
   "codemirror_mode": {
    "name": "ipython",
    "version": 3
   },
   "file_extension": ".py",
   "mimetype": "text/x-python",
   "name": "python",
   "nbconvert_exporter": "python",
   "pygments_lexer": "ipython3",
   "version": 3
  },
  "orig_nbformat": 2
 },
 "nbformat": 4,
 "nbformat_minor": 2
}